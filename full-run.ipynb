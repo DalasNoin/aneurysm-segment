{
 "cells": [
  {
   "cell_type": "code",
   "execution_count": 2,
   "metadata": {},
   "outputs": [],
   "source": [
    "import preprocessing\n",
    "import postprocessing\n",
    "import net\n",
    "from config import patch_data_path as PATH\n",
    "import numpy as np"
   ]
  },
  {
   "cell_type": "code",
   "execution_count": 7,
   "metadata": {},
   "outputs": [],
   "source": [
    "unet = net.UNet(level_count=1, conv_count=4)"
   ]
  },
  {
   "cell_type": "code",
   "execution_count": 8,
   "metadata": {},
   "outputs": [
    {
     "name": "stdout",
     "output_type": "stream",
     "text": [
      "(None, 40, 40, 40, 1) <tensorflow.python.keras.engine.input_layer.InputLayer object at 0x7f6926622b00>\n",
      "(None, 40, 40, 40, 30) <tensorflow.python.keras.layers.convolutional.Conv3D object at 0x7f69266d9b70>\n",
      "(None, 40, 40, 40, 30) <tensorflow.python.keras.layers.convolutional.Conv3D object at 0x7f6926622da0>\n",
      "(None, 40, 40, 40, 30) <tensorflow.python.keras.layers.convolutional.Conv3D object at 0x7f69266d94a8>\n",
      "(None, 40, 40, 40, 30) <tensorflow.python.keras.layers.convolutional.Conv3D object at 0x7f69265f19b0>\n",
      "(None, 40, 40, 40, 30) <tensorflow.python.keras.layers.core.Dropout object at 0x7f6926594400>\n",
      "(None, 20, 20, 20, 30) <tensorflow.python.keras.layers.pooling.MaxPooling3D object at 0x7f6926594cf8>\n",
      "(None, 20, 20, 20, 30) <tensorflow.python.keras.layers.convolutional.Conv3D object at 0x7f69265ad2b0>\n",
      "(None, 20, 20, 20, 30) <tensorflow.python.keras.layers.convolutional.Conv3D object at 0x7f69265683c8>\n",
      "(None, 20, 20, 20, 30) <tensorflow.python.keras.layers.convolutional.Conv3D object at 0x7f69264be9e8>\n",
      "(None, 20, 20, 20, 30) <tensorflow.python.keras.layers.convolutional.Conv3D object at 0x7f69264ea358>\n",
      "(None, 20, 20, 20, 30) <tensorflow.python.keras.layers.core.Dropout object at 0x7f69264a4eb8>\n",
      "(None, 10, 10, 10, 30) <tensorflow.python.keras.layers.pooling.MaxPooling3D object at 0x7f69264a4e48>\n",
      "(None, 10, 10, 10, 30) <tensorflow.python.keras.layers.convolutional.Conv3D object at 0x7f6926480518>\n",
      "(None, 10, 10, 10, 30) <tensorflow.python.keras.layers.convolutional.Conv3D object at 0x7f69263ff240>\n",
      "(None, 10, 10, 10, 30) <tensorflow.python.keras.layers.convolutional.Conv3D object at 0x7f69263c12e8>\n",
      "(None, 10, 10, 10, 30) <tensorflow.python.keras.layers.convolutional.Conv3D object at 0x7f69263f9048>\n",
      "(None, 10, 10, 10, 30) <tensorflow.python.keras.layers.core.Dropout object at 0x7f6926394c50>\n",
      "(None, 20, 20, 20, 30) <tensorflow.python.keras.layers.convolutional.UpSampling3D object at 0x7f6926394ba8>\n",
      "(None, 20, 20, 20, 60) <tensorflow.python.keras.layers.merge.Concatenate object at 0x7f6926394c88>\n",
      "(None, 20, 20, 20, 30) <tensorflow.python.keras.layers.convolutional.Conv3D object at 0x7f69263b2c88>\n",
      "(None, 20, 20, 20, 30) <tensorflow.python.keras.layers.convolutional.Conv3D object at 0x7f6926354908>\n",
      "(None, 20, 20, 20, 30) <tensorflow.python.keras.layers.convolutional.Conv3D object at 0x7f69262fb7b8>\n",
      "(None, 20, 20, 20, 30) <tensorflow.python.keras.layers.convolutional.Conv3D object at 0x7f69262b1c18>\n",
      "(None, 20, 20, 20, 30) <tensorflow.python.keras.layers.core.Dropout object at 0x7f6926270da0>\n",
      "(None, 40, 40, 40, 30) <tensorflow.python.keras.layers.convolutional.UpSampling3D object at 0x7f69262567b8>\n",
      "(None, 40, 40, 40, 60) <tensorflow.python.keras.layers.merge.Concatenate object at 0x7f69262568d0>\n",
      "(None, 40, 40, 40, 60) <tensorflow.python.keras.layers.convolutional.Conv3D object at 0x7f69262567f0>\n",
      "(None, 40, 40, 40, 40) <tensorflow.python.keras.layers.convolutional.Conv3D object at 0x7f6926210cf8>\n",
      "(None, 40, 40, 40, 1) <tensorflow.python.keras.layers.convolutional.Conv3D object at 0x7f692613fe10>\n"
     ]
    }
   ],
   "source": [
    "unet.build()\n",
    "unet.save_model()"
   ]
  },
  {
   "cell_type": "code",
   "execution_count": 61,
   "metadata": {},
   "outputs": [
    {
     "name": "stdout",
     "output_type": "stream",
     "text": [
      "Model: \"model_17\"\n",
      "__________________________________________________________________________________________________\n",
      "Layer (type)                    Output Shape         Param #     Connected to                     \n",
      "==================================================================================================\n",
      "input_29 (InputLayer)           [(None, 40, 40, 40,  0                                            \n",
      "__________________________________________________________________________________________________\n",
      "conv3d_303 (Conv3D)             (None, 40, 40, 40, 3 270         input_29[0][0]                   \n",
      "__________________________________________________________________________________________________\n",
      "conv3d_304 (Conv3D)             (None, 40, 40, 40, 3 7230        conv3d_303[0][0]                 \n",
      "__________________________________________________________________________________________________\n",
      "dropout_126 (Dropout)           (None, 40, 40, 40, 3 0           conv3d_304[0][0]                 \n",
      "__________________________________________________________________________________________________\n",
      "max_pooling3d_89 (MaxPooling3D) (None, 20, 20, 20, 3 0           dropout_126[0][0]                \n",
      "__________________________________________________________________________________________________\n",
      "conv3d_305 (Conv3D)             (None, 20, 20, 20, 3 7230        max_pooling3d_89[0][0]           \n",
      "__________________________________________________________________________________________________\n",
      "conv3d_306 (Conv3D)             (None, 20, 20, 20, 3 7230        conv3d_305[0][0]                 \n",
      "__________________________________________________________________________________________________\n",
      "dropout_127 (Dropout)           (None, 20, 20, 20, 3 0           conv3d_306[0][0]                 \n",
      "__________________________________________________________________________________________________\n",
      "max_pooling3d_90 (MaxPooling3D) (None, 10, 10, 10, 3 0           dropout_127[0][0]                \n",
      "__________________________________________________________________________________________________\n",
      "conv3d_307 (Conv3D)             (None, 10, 10, 10, 3 7230        max_pooling3d_90[0][0]           \n",
      "__________________________________________________________________________________________________\n",
      "conv3d_308 (Conv3D)             (None, 10, 10, 10, 3 7230        conv3d_307[0][0]                 \n",
      "__________________________________________________________________________________________________\n",
      "dropout_128 (Dropout)           (None, 10, 10, 10, 3 0           conv3d_308[0][0]                 \n",
      "__________________________________________________________________________________________________\n",
      "max_pooling3d_91 (MaxPooling3D) (None, 5, 5, 5, 30)  0           dropout_128[0][0]                \n",
      "__________________________________________________________________________________________________\n",
      "conv3d_309 (Conv3D)             (None, 5, 5, 5, 30)  7230        max_pooling3d_91[0][0]           \n",
      "__________________________________________________________________________________________________\n",
      "conv3d_310 (Conv3D)             (None, 5, 5, 5, 30)  7230        conv3d_309[0][0]                 \n",
      "__________________________________________________________________________________________________\n",
      "dropout_129 (Dropout)           (None, 5, 5, 5, 30)  0           conv3d_310[0][0]                 \n",
      "__________________________________________________________________________________________________\n",
      "up_sampling3d_42 (UpSampling3D) (None, 10, 10, 10, 3 0           dropout_129[0][0]                \n",
      "__________________________________________________________________________________________________\n",
      "concatenate_33 (Concatenate)    (None, 10, 10, 10, 6 0           up_sampling3d_42[0][0]           \n",
      "                                                                 dropout_128[0][0]                \n",
      "__________________________________________________________________________________________________\n",
      "conv3d_311 (Conv3D)             (None, 10, 10, 10, 3 14430       concatenate_33[0][0]             \n",
      "__________________________________________________________________________________________________\n",
      "conv3d_312 (Conv3D)             (None, 10, 10, 10, 3 7230        conv3d_311[0][0]                 \n",
      "__________________________________________________________________________________________________\n",
      "dropout_130 (Dropout)           (None, 10, 10, 10, 3 0           conv3d_312[0][0]                 \n",
      "__________________________________________________________________________________________________\n",
      "up_sampling3d_43 (UpSampling3D) (None, 20, 20, 20, 3 0           dropout_130[0][0]                \n",
      "__________________________________________________________________________________________________\n",
      "concatenate_34 (Concatenate)    (None, 20, 20, 20, 6 0           up_sampling3d_43[0][0]           \n",
      "                                                                 dropout_127[0][0]                \n",
      "__________________________________________________________________________________________________\n",
      "conv3d_313 (Conv3D)             (None, 20, 20, 20, 3 14430       concatenate_34[0][0]             \n",
      "__________________________________________________________________________________________________\n",
      "conv3d_314 (Conv3D)             (None, 20, 20, 20, 3 7230        conv3d_313[0][0]                 \n",
      "__________________________________________________________________________________________________\n",
      "dropout_131 (Dropout)           (None, 20, 20, 20, 3 0           conv3d_314[0][0]                 \n",
      "__________________________________________________________________________________________________\n",
      "up_sampling3d_44 (UpSampling3D) (None, 40, 40, 40, 3 0           dropout_131[0][0]                \n",
      "__________________________________________________________________________________________________\n",
      "concatenate_35 (Concatenate)    (None, 40, 40, 40, 6 0           up_sampling3d_44[0][0]           \n",
      "                                                                 dropout_126[0][0]                \n",
      "__________________________________________________________________________________________________\n",
      "conv3d_315 (Conv3D)             (None, 40, 40, 40, 6 97260       concatenate_35[0][0]             \n",
      "__________________________________________________________________________________________________\n",
      "conv3d_316 (Conv3D)             (None, 40, 40, 40, 4 2440        conv3d_315[0][0]                 \n",
      "__________________________________________________________________________________________________\n",
      "conv3d_317 (Conv3D)             (None, 40, 40, 40, 1 41          conv3d_316[0][0]                 \n",
      "==================================================================================================\n",
      "Total params: 193,941\n",
      "Trainable params: 193,941\n",
      "Non-trainable params: 0\n",
      "__________________________________________________________________________________________________\n",
      "None\n"
     ]
    }
   ],
   "source": [
    "print(unet.model.summary())"
   ]
  },
  {
   "cell_type": "code",
   "execution_count": 48,
   "metadata": {
    "scrolled": false
   },
   "outputs": [],
   "source": [
    "config = unet.model.get_config()\n",
    "with open(\"config.txt\", \"w\") as f:\n",
    "    f.write(str(config))"
   ]
  },
  {
   "cell_type": "code",
   "execution_count": 64,
   "metadata": {},
   "outputs": [
    {
     "data": {
      "text/plain": [
       "'2.0.0-alpha0'"
      ]
     },
     "execution_count": 64,
     "metadata": {},
     "output_type": "execute_result"
    }
   ],
   "source": [
    "net.tf.__version__"
   ]
  },
  {
   "cell_type": "code",
   "execution_count": 49,
   "metadata": {},
   "outputs": [],
   "source": [
    "config = {'name': 'model_14', 'layers': [{'name': 'input_25', 'class_name': 'InputLayer', 'config': {'batch_input_shape': (None, 40, 40, 40, 1), 'dtype': 'float32', 'sparse': False, 'name': 'input_25'}, 'inbound_nodes': []}, {'name': 'conv3d_248', 'class_name': 'Conv3D', 'config': {'name': 'conv3d_248', 'trainable': True, 'dtype': 'float32', 'filters': 30, 'kernel_size': (2, 2, 2), 'strides': (1, 1, 1), 'padding': 'same', 'data_format': 'channels_last', 'dilation_rate': (1, 1, 1), 'activation': 'relu', 'use_bias': True, 'kernel_initializer': {'class_name': 'GlorotUniform', 'config': {'seed': None}}, 'bias_initializer': {'class_name': 'Zeros', 'config': {}}, 'kernel_regularizer': None, 'bias_regularizer': None, 'activity_regularizer': None, 'kernel_constraint': None, 'bias_constraint': None}, 'inbound_nodes': [['input_25', 0, 0, {}]]}, {'name': 'conv3d_249', 'class_name': 'Conv3D', 'config': {'name': 'conv3d_249', 'trainable': True, 'dtype': 'float32', 'filters': 30, 'kernel_size': (2, 2, 2), 'strides': (1, 1, 1), 'padding': 'same', 'data_format': 'channels_last', 'dilation_rate': (1, 1, 1), 'activation': 'relu', 'use_bias': True, 'kernel_initializer': {'class_name': 'GlorotUniform', 'config': {'seed': None}}, 'bias_initializer': {'class_name': 'Zeros', 'config': {}}, 'kernel_regularizer': None, 'bias_regularizer': None, 'activity_regularizer': None, 'kernel_constraint': None, 'bias_constraint': None}, 'inbound_nodes': [['conv3d_248', 0, 0, {}]]}, {'name': 'dropout_103', 'class_name': 'Dropout', 'config': {'name': 'dropout_103', 'trainable': True, 'dtype': 'float32', 'rate': 0.5, 'noise_shape': None, 'seed': None}, 'inbound_nodes': [['conv3d_249', 0, 0, {}]]}, {'name': 'max_pooling3d_76', 'class_name': 'MaxPooling3D', 'config': {'name': 'max_pooling3d_76', 'trainable': True, 'dtype': 'float32', 'pool_size': (2, 2, 2), 'padding': 'same', 'strides': (2, 2, 2), 'data_format': 'channels_last'}, 'inbound_nodes': [['dropout_103', 0, 0, {}]]}, {'name': 'conv3d_250', 'class_name': 'Conv3D', 'config': {'name': 'conv3d_250', 'trainable': True, 'dtype': 'float32', 'filters': 30, 'kernel_size': (2, 2, 2), 'strides': (1, 1, 1), 'padding': 'same', 'data_format': 'channels_last', 'dilation_rate': (1, 1, 1), 'activation': 'relu', 'use_bias': True, 'kernel_initializer': {'class_name': 'GlorotUniform', 'config': {'seed': None}}, 'bias_initializer': {'class_name': 'Zeros', 'config': {}}, 'kernel_regularizer': None, 'bias_regularizer': None, 'activity_regularizer': None, 'kernel_constraint': None, 'bias_constraint': None}, 'inbound_nodes': [['max_pooling3d_76', 0, 0, {}]]}, {'name': 'conv3d_251', 'class_name': 'Conv3D', 'config': {'name': 'conv3d_251', 'trainable': True, 'dtype': 'float32', 'filters': 30, 'kernel_size': (2, 2, 2), 'strides': (1, 1, 1), 'padding': 'same', 'data_format': 'channels_last', 'dilation_rate': (1, 1, 1), 'activation': 'relu', 'use_bias': True, 'kernel_initializer': {'class_name': 'GlorotUniform', 'config': {'seed': None}}, 'bias_initializer': {'class_name': 'Zeros', 'config': {}}, 'kernel_regularizer': None, 'bias_regularizer': None, 'activity_regularizer': None, 'kernel_constraint': None, 'bias_constraint': None}, 'inbound_nodes': [['conv3d_250', 0, 0, {}]]}, {'name': 'dropout_104', 'class_name': 'Dropout', 'config': {'name': 'dropout_104', 'trainable': True, 'dtype': 'float32', 'rate': 0.5, 'noise_shape': None, 'seed': None}, 'inbound_nodes': [['conv3d_251', 0, 0, {}]]}, {'name': 'max_pooling3d_77', 'class_name': 'MaxPooling3D', 'config': {'name': 'max_pooling3d_77', 'trainable': True, 'dtype': 'float32', 'pool_size': (2, 2, 2), 'padding': 'same', 'strides': (2, 2, 2), 'data_format': 'channels_last'}, 'inbound_nodes': [['dropout_104', 0, 0, {}]]}, {'name': 'conv3d_252', 'class_name': 'Conv3D', 'config': {'name': 'conv3d_252', 'trainable': True, 'dtype': 'float32', 'filters': 30, 'kernel_size': (2, 2, 2), 'strides': (1, 1, 1), 'padding': 'same', 'data_format': 'channels_last', 'dilation_rate': (1, 1, 1), 'activation': 'relu', 'use_bias': True, 'kernel_initializer': {'class_name': 'GlorotUniform', 'config': {'seed': None}}, 'bias_initializer': {'class_name': 'Zeros', 'config': {}}, 'kernel_regularizer': None, 'bias_regularizer': None, 'activity_regularizer': None, 'kernel_constraint': None, 'bias_constraint': None}, 'inbound_nodes': [['max_pooling3d_77', 0, 0, {}]]}, {'name': 'conv3d_253', 'class_name': 'Conv3D', 'config': {'name': 'conv3d_253', 'trainable': True, 'dtype': 'float32', 'filters': 30, 'kernel_size': (2, 2, 2), 'strides': (1, 1, 1), 'padding': 'same', 'data_format': 'channels_last', 'dilation_rate': (1, 1, 1), 'activation': 'relu', 'use_bias': True, 'kernel_initializer': {'class_name': 'GlorotUniform', 'config': {'seed': None}}, 'bias_initializer': {'class_name': 'Zeros', 'config': {}}, 'kernel_regularizer': None, 'bias_regularizer': None, 'activity_regularizer': None, 'kernel_constraint': None, 'bias_constraint': None}, 'inbound_nodes': [['conv3d_252', 0, 0, {}]]}, {'name': 'dropout_105', 'class_name': 'Dropout', 'config': {'name': 'dropout_105', 'trainable': True, 'dtype': 'float32', 'rate': 0.5, 'noise_shape': None, 'seed': None}, 'inbound_nodes': [['conv3d_253', 0, 0, {}]]}, {'name': 'max_pooling3d_78', 'class_name': 'MaxPooling3D', 'config': {'name': 'max_pooling3d_78', 'trainable': True, 'dtype': 'float32', 'pool_size': (2, 2, 2), 'padding': 'same', 'strides': (2, 2, 2), 'data_format': 'channels_last'}, 'inbound_nodes': [['dropout_105', 0, 0, {}]]}, {'name': 'conv3d_254', 'class_name': 'Conv3D', 'config': {'name': 'conv3d_254', 'trainable': True, 'dtype': 'float32', 'filters': 30, 'kernel_size': (2, 2, 2), 'strides': (1, 1, 1), 'padding': 'same', 'data_format': 'channels_last', 'dilation_rate': (1, 1, 1), 'activation': 'relu', 'use_bias': True, 'kernel_initializer': {'class_name': 'GlorotUniform', 'config': {'seed': None}}, 'bias_initializer': {'class_name': 'Zeros', 'config': {}}, 'kernel_regularizer': None, 'bias_regularizer': None, 'activity_regularizer': None, 'kernel_constraint': None, 'bias_constraint': None}, 'inbound_nodes': [['max_pooling3d_78', 0, 0, {}]]}, {'name': 'conv3d_255', 'class_name': 'Conv3D', 'config': {'name': 'conv3d_255', 'trainable': True, 'dtype': 'float32', 'filters': 30, 'kernel_size': (2, 2, 2), 'strides': (1, 1, 1), 'padding': 'same', 'data_format': 'channels_last', 'dilation_rate': (1, 1, 1), 'activation': 'relu', 'use_bias': True, 'kernel_initializer': {'class_name': 'GlorotUniform', 'config': {'seed': None}}, 'bias_initializer': {'class_name': 'Zeros', 'config': {}}, 'kernel_regularizer': None, 'bias_regularizer': None, 'activity_regularizer': None, 'kernel_constraint': None, 'bias_constraint': None}, 'inbound_nodes': [['conv3d_254', 0, 0, {}]]}, {'name': 'dropout_106', 'class_name': 'Dropout', 'config': {'name': 'dropout_106', 'trainable': True, 'dtype': 'float32', 'rate': 0.5, 'noise_shape': None, 'seed': None}, 'inbound_nodes': [['conv3d_255', 0, 0, {}]]}, {'name': 'up_sampling3d_32', 'class_name': 'UpSampling3D', 'config': {'name': 'up_sampling3d_32', 'trainable': True, 'dtype': 'float32', 'size': (2, 2, 2), 'data_format': 'channels_last'}, 'inbound_nodes': [['dropout_106', 0, 0, {}]]}, {'name': 'concatenate_23', 'class_name': 'Concatenate', 'config': {'name': 'concatenate_23', 'trainable': True, 'dtype': 'float32', 'axis': -1}, 'inbound_nodes': [[['up_sampling3d_32', 0, 0, {}], ['dropout_105', 0, 0, {}]]]}, {'name': 'conv3d_256', 'class_name': 'Conv3D', 'config': {'name': 'conv3d_256', 'trainable': True, 'dtype': 'float32', 'filters': 30, 'kernel_size': (2, 2, 2), 'strides': (1, 1, 1), 'padding': 'same', 'data_format': 'channels_last', 'dilation_rate': (1, 1, 1), 'activation': 'relu', 'use_bias': True, 'kernel_initializer': {'class_name': 'GlorotUniform', 'config': {'seed': None}}, 'bias_initializer': {'class_name': 'Zeros', 'config': {}}, 'kernel_regularizer': None, 'bias_regularizer': None, 'activity_regularizer': None, 'kernel_constraint': None, 'bias_constraint': None}, 'inbound_nodes': [['concatenate_23', 0, 0, {}]]}, {'name': 'conv3d_257', 'class_name': 'Conv3D', 'config': {'name': 'conv3d_257', 'trainable': True, 'dtype': 'float32', 'filters': 30, 'kernel_size': (2, 2, 2), 'strides': (1, 1, 1), 'padding': 'same', 'data_format': 'channels_last', 'dilation_rate': (1, 1, 1), 'activation': 'relu', 'use_bias': True, 'kernel_initializer': {'class_name': 'GlorotUniform', 'config': {'seed': None}}, 'bias_initializer': {'class_name': 'Zeros', 'config': {}}, 'kernel_regularizer': None, 'bias_regularizer': None, 'activity_regularizer': None, 'kernel_constraint': None, 'bias_constraint': None}, 'inbound_nodes': [['conv3d_256', 0, 0, {}]]}, {'name': 'dropout_107', 'class_name': 'Dropout', 'config': {'name': 'dropout_107', 'trainable': True, 'dtype': 'float32', 'rate': 0.5, 'noise_shape': None, 'seed': None}, 'inbound_nodes': [['conv3d_257', 0, 0, {}]]}, {'name': 'up_sampling3d_33', 'class_name': 'UpSampling3D', 'config': {'name': 'up_sampling3d_33', 'trainable': True, 'dtype': 'float32', 'size': (2, 2, 2), 'data_format': 'channels_last'}, 'inbound_nodes': [['dropout_107', 0, 0, {}]]}, {'name': 'concatenate_24', 'class_name': 'Concatenate', 'config': {'name': 'concatenate_24', 'trainable': True, 'dtype': 'float32', 'axis': -1}, 'inbound_nodes': [[['up_sampling3d_33', 0, 0, {}], ['dropout_104', 0, 0, {}]]]}, {'name': 'conv3d_258', 'class_name': 'Conv3D', 'config': {'name': 'conv3d_258', 'trainable': True, 'dtype': 'float32', 'filters': 30, 'kernel_size': (2, 2, 2), 'strides': (1, 1, 1), 'padding': 'same', 'data_format': 'channels_last', 'dilation_rate': (1, 1, 1), 'activation': 'relu', 'use_bias': True, 'kernel_initializer': {'class_name': 'GlorotUniform', 'config': {'seed': None}}, 'bias_initializer': {'class_name': 'Zeros', 'config': {}}, 'kernel_regularizer': None, 'bias_regularizer': None, 'activity_regularizer': None, 'kernel_constraint': None, 'bias_constraint': None}, 'inbound_nodes': [['concatenate_24', 0, 0, {}]]}, {'name': 'conv3d_259', 'class_name': 'Conv3D', 'config': {'name': 'conv3d_259', 'trainable': True, 'dtype': 'float32', 'filters': 30, 'kernel_size': (2, 2, 2), 'strides': (1, 1, 1), 'padding': 'same', 'data_format': 'channels_last', 'dilation_rate': (1, 1, 1), 'activation': 'relu', 'use_bias': True, 'kernel_initializer': {'class_name': 'GlorotUniform', 'config': {'seed': None}}, 'bias_initializer': {'class_name': 'Zeros', 'config': {}}, 'kernel_regularizer': None, 'bias_regularizer': None, 'activity_regularizer': None, 'kernel_constraint': None, 'bias_constraint': None}, 'inbound_nodes': [['conv3d_258', 0, 0, {}]]}, {'name': 'dropout_108', 'class_name': 'Dropout', 'config': {'name': 'dropout_108', 'trainable': True, 'dtype': 'float32', 'rate': 0.5, 'noise_shape': None, 'seed': None}, 'inbound_nodes': [['conv3d_259', 0, 0, {}]]}, {'name': 'up_sampling3d_34', 'class_name': 'UpSampling3D', 'config': {'name': 'up_sampling3d_34', 'trainable': True, 'dtype': 'float32', 'size': (2, 2, 2), 'data_format': 'channels_last'}, 'inbound_nodes': [['dropout_108', 0, 0, {}]]}, {'name': 'concatenate_25', 'class_name': 'Concatenate', 'config': {'name': 'concatenate_25', 'trainable': True, 'dtype': 'float32', 'axis': -1}, 'inbound_nodes': [[['up_sampling3d_34', 0, 0, {}], ['dropout_103', 0, 0, {}]]]}, {'name': 'conv3d_260', 'class_name': 'Conv3D', 'config': {'name': 'conv3d_260', 'trainable': True, 'dtype': 'float32', 'filters': 60, 'kernel_size': (3, 3, 3), 'strides': (1, 1, 1), 'padding': 'same', 'data_format': 'channels_last', 'dilation_rate': (1, 1, 1), 'activation': 'relu', 'use_bias': True, 'kernel_initializer': {'class_name': 'GlorotUniform', 'config': {'seed': None}}, 'bias_initializer': {'class_name': 'Zeros', 'config': {}}, 'kernel_regularizer': None, 'bias_regularizer': None, 'activity_regularizer': None, 'kernel_constraint': None, 'bias_constraint': None}, 'inbound_nodes': [['concatenate_25', 0, 0, {}]]}, {'name': 'conv3d_261', 'class_name': 'Conv3D', 'config': {'name': 'conv3d_261', 'trainable': True, 'dtype': 'float32', 'filters': 40, 'kernel_size': (1, 1, 1), 'strides': (1, 1, 1), 'padding': 'same', 'data_format': 'channels_last', 'dilation_rate': (1, 1, 1), 'activation': 'relu', 'use_bias': True, 'kernel_initializer': {'class_name': 'GlorotUniform', 'config': {'seed': None}}, 'bias_initializer': {'class_name': 'Zeros', 'config': {}}, 'kernel_regularizer': None, 'bias_regularizer': None, 'activity_regularizer': None, 'kernel_constraint': None, 'bias_constraint': None}, 'inbound_nodes': [['conv3d_260', 0, 0, {}]]}, {'name': 'conv3d_262', 'class_name': 'Conv3D', 'config': {'name': 'conv3d_262', 'trainable': True, 'dtype': 'float32', 'filters': 1, 'kernel_size': (1, 1, 1), 'strides': (1, 1, 1), 'padding': 'same', 'data_format': 'channels_last', 'dilation_rate': (1, 1, 1), 'activation': 'sigmoid', 'use_bias': True, 'kernel_initializer': {'class_name': 'GlorotUniform', 'config': {'seed': None}}, 'bias_initializer': {'class_name': 'Zeros', 'config': {}}, 'kernel_regularizer': None, 'bias_regularizer': None, 'activity_regularizer': None, 'kernel_constraint': None, 'bias_constraint': None}, 'inbound_nodes': [['conv3d_261', 0, 0, {}]]}], 'input_layers': ['input_25', 0, 0], 'output_layers': ['conv3d_262', 0, 0]}"
   ]
  },
  {
   "cell_type": "code",
   "execution_count": 1,
   "metadata": {},
   "outputs": [],
   "source": [
    "import tensorflow"
   ]
  },
  {
   "cell_type": "code",
   "execution_count": 51,
   "metadata": {},
   "outputs": [
    {
     "data": {
      "text/plain": [
       "<tensorflow.python.keras.engine.training.Model at 0x7f2d205cd1d0>"
      ]
     },
     "execution_count": 51,
     "metadata": {},
     "output_type": "execute_result"
    }
   ],
   "source": [
    "keras.Model.from_config(config)"
   ]
  },
  {
   "cell_type": "code",
   "execution_count": 31,
   "metadata": {},
   "outputs": [],
   "source": [
    "records = [[\"Indices\", \"patches\", \"name\", \"positiv\"],[\"Indices\", \"patches\", \"name\", \"positiv\"]]"
   ]
  },
  {
   "cell_type": "code",
   "execution_count": 50,
   "metadata": {},
   "outputs": [
    {
     "data": {
      "text/html": [
       "<div>\n",
       "<style scoped>\n",
       "    .dataframe tbody tr th:only-of-type {\n",
       "        vertical-align: middle;\n",
       "    }\n",
       "\n",
       "    .dataframe tbody tr th {\n",
       "        vertical-align: top;\n",
       "    }\n",
       "\n",
       "    .dataframe thead th {\n",
       "        text-align: right;\n",
       "    }\n",
       "</style>\n",
       "<table border=\"1\" class=\"dataframe\">\n",
       "  <thead>\n",
       "    <tr style=\"text-align: right;\">\n",
       "      <th></th>\n",
       "      <th>Indices</th>\n",
       "      <th>patches</th>\n",
       "      <th>name</th>\n",
       "      <th>positiv</th>\n",
       "    </tr>\n",
       "  </thead>\n",
       "  <tbody>\n",
       "    <tr>\n",
       "      <th>0</th>\n",
       "      <td>Indices</td>\n",
       "      <td>patches</td>\n",
       "      <td>name</td>\n",
       "      <td>positiv</td>\n",
       "    </tr>\n",
       "    <tr>\n",
       "      <th>1</th>\n",
       "      <td>Indices</td>\n",
       "      <td>patches</td>\n",
       "      <td>name</td>\n",
       "      <td>positiv</td>\n",
       "    </tr>\n",
       "  </tbody>\n",
       "</table>\n",
       "</div>"
      ],
      "text/plain": [
       "   Indices  patches  name  positiv\n",
       "0  Indices  patches  name  positiv\n",
       "1  Indices  patches  name  positiv"
      ]
     },
     "execution_count": 50,
     "metadata": {},
     "output_type": "execute_result"
    }
   ],
   "source": [
    "pd.DataFrame(records,columns=records[0])"
   ]
  },
  {
   "cell_type": "code",
   "execution_count": 44,
   "metadata": {},
   "outputs": [],
   "source": [
    "df = pd.read_csv(PATH+\"/records.csv\")"
   ]
  },
  {
   "cell_type": "code",
   "execution_count": 46,
   "metadata": {},
   "outputs": [
    {
     "data": {
      "text/plain": [
       "array(['False', 'positiv'], dtype=object)"
      ]
     },
     "execution_count": 46,
     "metadata": {},
     "output_type": "execute_result"
    }
   ],
   "source": [
    "np.unique(df[\"4\"])"
   ]
  },
  {
   "cell_type": "code",
   "execution_count": null,
   "metadata": {},
   "outputs": [],
   "source": []
  }
 ],
 "metadata": {
  "kernelspec": {
   "display_name": "Python [conda env:simon]",
   "language": "python",
   "name": "conda-env-simon-py"
  },
  "language_info": {
   "codemirror_mode": {
    "name": "ipython",
    "version": 3
   },
   "file_extension": ".py",
   "mimetype": "text/x-python",
   "name": "python",
   "nbconvert_exporter": "python",
   "pygments_lexer": "ipython3",
   "version": "3.7.3"
  }
 },
 "nbformat": 4,
 "nbformat_minor": 2
}
