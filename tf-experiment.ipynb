{
 "cells": [
  {
   "cell_type": "code",
   "execution_count": 1,
   "metadata": {},
   "outputs": [],
   "source": [
    "import tensorflow as tf\n",
    "from tensorflow import keras\n",
    "from tensorflow.keras.layers import Conv3D, Conv3DTranspose, Flatten, Dense\n",
    "import numpy as np"
   ]
  },
  {
   "cell_type": "code",
   "execution_count": 4,
   "metadata": {},
   "outputs": [
    {
     "name": "stdout",
     "output_type": "stream",
     "text": [
      "The autoreload extension is already loaded. To reload it, use:\n",
      "  %reload_ext autoreload\n"
     ]
    }
   ],
   "source": [
    "%load_ext autoreload\n",
    "%autoreload 2\n",
    "%aimport data\n",
    "%reload_ext data\n",
    "import data, train\n",
    "from config import patch_data_path\n",
    "import preprocessing\n",
    "import os\n",
    "import net\n",
    "import config"
   ]
  },
  {
   "cell_type": "code",
   "execution_count": 4,
   "metadata": {},
   "outputs": [],
   "source": [
    "import pandas as pd\n",
    "records = pd.read_csv(os.path.join(patch_data_path,\"records.csv\"))"
   ]
  },
  {
   "cell_type": "code",
   "execution_count": 11,
   "metadata": {},
   "outputs": [
    {
     "name": "stderr",
     "output_type": "stream",
     "text": [
      "100%|██████████| 428/428 [00:00<00:00, 633.77it/s]\n",
      "100%|██████████| 428/428 [00:00<00:00, 1732.71it/s]\n"
     ]
    }
   ],
   "source": [
    "import pandas as pd\n",
    "import os\n",
    "import numpy as np\n",
    "import config, preprocessing\n",
    "records = pd.read_csv(os.path.join(config.patch_data_path,\"records.csv\"))\n",
    "names = list(records[records[\"positiv\"]][\"filepath\"])\n",
    "names = [name.split(\"/\")[-1]+\".npy\" for name in names]\n",
    "adg = preprocessing.AneurysmDataGenerator(config.patch_data_path,names)"
   ]
  },
  {
   "cell_type": "code",
   "execution_count": 17,
   "metadata": {},
   "outputs": [
    {
     "name": "stdout",
     "output_type": "stream",
     "text": [
      "-5.8638827e-09 0.9999929070690179\n"
     ]
    }
   ],
   "source": [
    "print(total_mean,total_std)\n"
   ]
  },
  {
   "cell_type": "code",
   "execution_count": 15,
   "metadata": {},
   "outputs": [],
   "source": [
    "total_mean = 0\n",
    "total_std = 1\n",
    "for image in adg.images:\n",
    "    total_mean = np.mean(image)\n",
    "    total_std *= np.std(image)"
   ]
  },
  {
   "cell_type": "code",
   "execution_count": 21,
   "metadata": {},
   "outputs": [
    {
     "name": "stdout",
     "output_type": "stream",
     "text": [
      "0.0019542552806712963 0.0\n"
     ]
    }
   ],
   "source": [
    "total_mean = 0\n",
    "total_std = 1\n",
    "for mask in adg.masks:\n",
    "    total_mean = np.mean(mask)\n",
    "    total_std *= np.std(mask)\n",
    "print(total_mean, total_std)\n"
   ]
  },
  {
   "cell_type": "code",
   "execution_count": 9,
   "metadata": {},
   "outputs": [],
   "source": [
    "x = adg.images#[image for i, image in enumerate(adg.images) if np.mean(adg.masks[i])>0.01]\n",
    "x = np.array(x)\n",
    "x = x.reshape(*x.shape,1)\n",
    "y = adg.images#[mask for i, image in enumerate(adg.masks) if np.mean(adg.masks[i])>0.01]\n",
    "y = np.array(y)\n",
    "y = y.reshape(*y.shape,1)"
   ]
  },
  {
   "cell_type": "code",
   "execution_count": 24,
   "metadata": {},
   "outputs": [
    {
     "name": "stdout",
     "output_type": "stream",
     "text": [
      "Train on 410 samples, validate on 22 samples\n",
      "Epoch 1/10\n",
      "410/410 [==============================] - 5s 13ms/sample - loss: 9.8268 - acc: 0.0000e+00 - val_loss: 8.7340 - val_acc: 0.0000e+00\n",
      "Epoch 2/10\n",
      "410/410 [==============================] - 5s 13ms/sample - loss: 9.8278 - acc: 0.0000e+00 - val_loss: 8.4272 - val_acc: 0.0000e+00\n",
      "Epoch 3/10\n",
      "410/410 [==============================] - 5s 13ms/sample - loss: 9.8341 - acc: 0.0000e+00 - val_loss: 8.4226 - val_acc: 0.0000e+00\n",
      "Epoch 4/10\n",
      "410/410 [==============================] - 5s 13ms/sample - loss: 9.7884 - acc: 0.0000e+00 - val_loss: 8.4405 - val_acc: 0.0000e+00\n",
      "Epoch 5/10\n",
      "410/410 [==============================] - 6s 13ms/sample - loss: 9.8166 - acc: 0.0000e+00 - val_loss: 8.4707 - val_acc: 0.0000e+00\n",
      "Epoch 6/10\n",
      "410/410 [==============================] - 6s 13ms/sample - loss: 9.8039 - acc: 0.0000e+00 - val_loss: 8.4169 - val_acc: 0.0000e+00\n",
      "Epoch 7/10\n",
      "410/410 [==============================] - 6s 14ms/sample - loss: 9.7908 - acc: 0.0000e+00 - val_loss: 8.4004 - val_acc: 0.0000e+00\n",
      "Epoch 8/10\n",
      "410/410 [==============================] - 6s 14ms/sample - loss: 9.7779 - acc: 0.0000e+00 - val_loss: 8.4640 - val_acc: 0.0000e+00\n",
      "Epoch 9/10\n",
      "410/410 [==============================] - 6s 14ms/sample - loss: 9.7743 - acc: 0.0000e+00 - val_loss: 8.4370 - val_acc: 0.0000e+00\n",
      "Epoch 10/10\n",
      "410/410 [==============================] - 6s 14ms/sample - loss: 9.7725 - acc: 0.0000e+00 - val_loss: 8.3907 - val_acc: 0.0000e+00\n"
     ]
    },
    {
     "data": {
      "text/plain": [
       "<tensorflow.python.keras.callbacks.History at 0x7f1c2c32b0f0>"
      ]
     },
     "execution_count": 24,
     "metadata": {},
     "output_type": "execute_result"
    }
   ],
   "source": [
    "model.fit(x,y,batch_size=20,epochs=10,validation_split=0.05)"
   ]
  },
  {
   "cell_type": "code",
   "execution_count": 11,
   "metadata": {},
   "outputs": [
    {
     "data": {
      "text/plain": [
       "0.015873408564814815"
      ]
     },
     "execution_count": 11,
     "metadata": {},
     "output_type": "execute_result"
    }
   ],
   "source": [
    "np.mean([np.mean(mask) for mask in adg.masks])"
   ]
  },
  {
   "cell_type": "code",
   "execution_count": 12,
   "metadata": {},
   "outputs": [
    {
     "data": {
      "text/plain": [
       "(432, 40, 40, 40, 1)"
      ]
     },
     "execution_count": 12,
     "metadata": {},
     "output_type": "execute_result"
    }
   ],
   "source": [
    "x.shape"
   ]
  },
  {
   "cell_type": "code",
   "execution_count": null,
   "metadata": {},
   "outputs": [],
   "source": []
  },
  {
   "cell_type": "code",
   "execution_count": 26,
   "metadata": {},
   "outputs": [
    {
     "data": {
      "text/plain": [
       "0.015873408564814815"
      ]
     },
     "execution_count": 26,
     "metadata": {},
     "output_type": "execute_result"
    }
   ],
   "source": [
    "np.mean(adg.masks)"
   ]
  },
  {
   "cell_type": "code",
   "execution_count": 25,
   "metadata": {},
   "outputs": [
    {
     "data": {
      "text/plain": [
       "0.10892415"
      ]
     },
     "execution_count": 25,
     "metadata": {},
     "output_type": "execute_result"
    }
   ],
   "source": [
    "result = model.predict(x).reshape((-1,40,40,40))\n",
    "np.mean(result)"
   ]
  },
  {
   "cell_type": "code",
   "execution_count": 14,
   "metadata": {},
   "outputs": [],
   "source": [
    "result = model.predict(x).reshape((-1,40,40,40))"
   ]
  },
  {
   "cell_type": "code",
   "execution_count": 27,
   "metadata": {},
   "outputs": [
    {
     "name": "stdout",
     "output_type": "stream",
     "text": [
      "1.0 0.031777874\n"
     ]
    }
   ],
   "source": [
    "result = model.predict(x[431:]).reshape((40,40,40))\n",
    "print(np.max(result), np.mean(result))"
   ]
  },
  {
   "cell_type": "code",
   "execution_count": 35,
   "metadata": {},
   "outputs": [
    {
     "data": {
      "text/plain": [
       "<Figure size 16000x16000 with 0 Axes>"
      ]
     },
     "metadata": {},
     "output_type": "display_data"
    },
    {
     "data": {
      "image/png": "[encoded data removed]",
      "text/plain": [
       "<Figure size 1440x1440 with 16 Axes>"
      ]
     },
     "metadata": {
      "needs_background": "light"
     },
     "output_type": "display_data"
    }
   ],
   "source": [
    "import matplotlib.pyplot as plt\n",
    "N=4\n",
    "image = adg.masks[-1]\n",
    "mask = result >0.98\n",
    "plt.figure(dpi=800)\n",
    "plt.rcParams['figure.figsize'] = [20,20]\n",
    "fig, ax = plt.subplots(nrows=N, ncols=N)\n",
    "for i in range(N):\n",
    "    for j in range(N):\n",
    "        im = image[i+j*N+16,:,:]\n",
    "        m = mask[i+j*N+16,:,:]\n",
    "        ax[i,j].imshow(im,alpha=0.4,cmap=\"Greys_r\",vmin=0,vmax=1)\n",
    "        ax[i,j].imshow(m,alpha=0.6, cmap=\"cividis\",vmin=0,vmax=1)\n"
   ]
  },
  {
   "cell_type": "code",
   "execution_count": 18,
   "metadata": {},
   "outputs": [
    {
     "data": {
      "text/plain": [
       "0.036762107"
      ]
     },
     "execution_count": 18,
     "metadata": {},
     "output_type": "execute_result"
    }
   ],
   "source": [
    "np.mean(result)"
   ]
  },
  {
   "cell_type": "code",
   "execution_count": 37,
   "metadata": {},
   "outputs": [],
   "source": [
    "import config"
   ]
  },
  {
   "cell_type": "code",
   "execution_count": 36,
   "metadata": {},
   "outputs": [
    {
     "data": {
      "text/plain": [
       "'A095-1x2x3.npy'"
      ]
     },
     "execution_count": 36,
     "metadata": {},
     "output_type": "execute_result"
    }
   ],
   "source": [
    "adg.names[237]"
   ]
  },
  {
   "cell_type": "code",
   "execution_count": 44,
   "metadata": {},
   "outputs": [
    {
     "data": {
      "text/plain": [
       "(1, 220, 256, 256, 1)"
      ]
     },
     "execution_count": 44,
     "metadata": {},
     "output_type": "execute_result"
    }
   ],
   "source": [
    "image = np.load(os.path.join(config.full_data_path,\"image\",\"A095.dcm.npy\"))\n",
    "image = image.reshape(1,*image.shape,1)\n",
    "image.shape"
   ]
  },
  {
   "cell_type": "code",
   "execution_count": 18,
   "metadata": {},
   "outputs": [],
   "source": [
    "trainer = train.Trainer()"
   ]
  },
  {
   "cell_type": "code",
   "execution_count": null,
   "metadata": {},
   "outputs": [],
   "source": [
    "trainer.train(epochs=20,optimizer=\"adam\", loss=\"mean_squared_error\")"
   ]
  },
  {
   "cell_type": "code",
   "execution_count": null,
   "metadata": {},
   "outputs": [],
   "source": [
    "val = trainer.history.history"
   ]
  },
  {
   "cell_type": "code",
   "execution_count": null,
   "metadata": {},
   "outputs": [],
   "source": [
    "trainer.train(epochs=20,optimizer=\"sgd\", loss=\"mean_squared_error\")"
   ]
  },
  {
   "cell_type": "code",
   "execution_count": null,
   "metadata": {},
   "outputs": [],
   "source": [
    "sgdhistory = trainer.history.history"
   ]
  },
  {
   "cell_type": "code",
   "execution_count": null,
   "metadata": {},
   "outputs": [],
   "source": [
    "from matplotlib import pyplot as plt\n"
   ]
  },
  {
   "cell_type": "code",
   "execution_count": null,
   "metadata": {},
   "outputs": [],
   "source": [
    "plt.plot(sgdhistory[\"loss\"], label=\"sgd\")\n",
    "plt.plot(val[\"loss\"], label=\"adam\")\n",
    "plt.legend()"
   ]
  },
  {
   "cell_type": "code",
   "execution_count": null,
   "metadata": {},
   "outputs": [],
   "source": [
    "plt.title(\"Mean Absolute Error\")\n",
    "plt.plot(sgdhistory[\"val_mean_absolute_error\"], label=\"sgd\")\n",
    "plt.plot(val[\"val_mean_absolute_error\"], label=\"adam\")\n",
    "plt.legend()"
   ]
  },
  {
   "cell_type": "code",
   "execution_count": 4,
   "metadata": {},
   "outputs": [
    {
     "ename": "ImportError",
     "evalue": "cannot import name 'model_to_dot' from 'keras.utils' (/home/bagel/.conda/envs/simon/lib/python3.7/site-packages/keras/utils/__init__.py)",
     "output_type": "error",
     "traceback": [
      "\u001b[0;31m---------------------------------------------------------------------------\u001b[0m",
      "\u001b[0;31mImportError\u001b[0m                               Traceback (most recent call last)",
      "\u001b[0;32m<ipython-input-4-6284f8ccf3fb>\u001b[0m in \u001b[0;36m<module>\u001b[0;34m\u001b[0m\n\u001b[0;32m----> 1\u001b[0;31m \u001b[0;32mimport\u001b[0m \u001b[0mdata\u001b[0m\u001b[0;34m,\u001b[0m \u001b[0mtrain\u001b[0m\u001b[0;34m,\u001b[0m \u001b[0mnet\u001b[0m\u001b[0;34m\u001b[0m\u001b[0;34m\u001b[0m\u001b[0m\n\u001b[0m\u001b[1;32m      2\u001b[0m \u001b[0mtrainer\u001b[0m \u001b[0;34m=\u001b[0m \u001b[0mtrain\u001b[0m\u001b[0;34m.\u001b[0m\u001b[0mTrainer\u001b[0m\u001b[0;34m(\u001b[0m\u001b[0;34m)\u001b[0m\u001b[0;34m\u001b[0m\u001b[0;34m\u001b[0m\u001b[0m\n\u001b[1;32m      3\u001b[0m \u001b[0mtrainer\u001b[0m\u001b[0;34m.\u001b[0m\u001b[0mtrain\u001b[0m\u001b[0;34m(\u001b[0m\u001b[0mepochs\u001b[0m\u001b[0;34m=\u001b[0m\u001b[0;36m5\u001b[0m\u001b[0;34m,\u001b[0m\u001b[0moptimizer\u001b[0m\u001b[0;34m=\u001b[0m\u001b[0;34m\"adam\"\u001b[0m\u001b[0;34m,\u001b[0m \u001b[0mloss\u001b[0m\u001b[0;34m=\u001b[0m\u001b[0mnet\u001b[0m\u001b[0;34m.\u001b[0m\u001b[0mweighted_crossentropy\u001b[0m\u001b[0;34m(\u001b[0m\u001b[0;36m32\u001b[0m\u001b[0;34m)\u001b[0m\u001b[0;34m)\u001b[0m\u001b[0;34m\u001b[0m\u001b[0;34m\u001b[0m\u001b[0m\n",
      "\u001b[0;32m~/Simon/src/aneurysm-segment/train.py\u001b[0m in \u001b[0;36m<module>\u001b[0;34m\u001b[0m\n\u001b[1;32m     15\u001b[0m \u001b[0;32mfrom\u001b[0m \u001b[0mtensorflow\u001b[0m\u001b[0;34m.\u001b[0m\u001b[0mkeras\u001b[0m\u001b[0;34m.\u001b[0m\u001b[0mutils\u001b[0m \u001b[0;32mimport\u001b[0m \u001b[0mplot_model\u001b[0m\u001b[0;34m\u001b[0m\u001b[0;34m\u001b[0m\u001b[0m\n\u001b[1;32m     16\u001b[0m \u001b[0;32mfrom\u001b[0m \u001b[0mIPython\u001b[0m\u001b[0;34m.\u001b[0m\u001b[0mdisplay\u001b[0m \u001b[0;32mimport\u001b[0m \u001b[0mSVG\u001b[0m\u001b[0;34m\u001b[0m\u001b[0;34m\u001b[0m\u001b[0m\n\u001b[0;32m---> 17\u001b[0;31m \u001b[0;32mfrom\u001b[0m \u001b[0mkeras\u001b[0m\u001b[0;34m.\u001b[0m\u001b[0mutils\u001b[0m \u001b[0;32mimport\u001b[0m \u001b[0mmodel_to_dot\u001b[0m\u001b[0;34m\u001b[0m\u001b[0;34m\u001b[0m\u001b[0m\n\u001b[0m\u001b[1;32m     18\u001b[0m \u001b[0;34m\u001b[0m\u001b[0m\n\u001b[1;32m     19\u001b[0m \u001b[0;34m\u001b[0m\u001b[0m\n",
      "\u001b[0;31mImportError\u001b[0m: cannot import name 'model_to_dot' from 'keras.utils' (/home/bagel/.conda/envs/simon/lib/python3.7/site-packages/keras/utils/__init__.py)"
     ]
    }
   ],
   "source": [
    "import data, train, net\n",
    "trainer = train.Trainer()\n",
    "trainer.train(epochs=5,optimizer=\"adam\", loss=net.weighted_crossentropy(32))"
   ]
  },
  {
   "cell_type": "code",
   "execution_count": 3,
   "metadata": {},
   "outputs": [],
   "source": [
    "%load_ext autoreload\n",
    "%autoreload 2\n",
    "%aimport data\n",
    "%reload_ext data"
   ]
  },
  {
   "cell_type": "code",
   "execution_count": 6,
   "metadata": {},
   "outputs": [],
   "source": [
    "y = trainer.y.reshape(*trainer.y.shape,1)"
   ]
  },
  {
   "cell_type": "code",
   "execution_count": 13,
   "metadata": {},
   "outputs": [],
   "source": [
    "import numpy as np"
   ]
  },
  {
   "cell_type": "code",
   "execution_count": 16,
   "metadata": {},
   "outputs": [
    {
     "data": {
      "text/plain": [
       "0.29088137"
      ]
     },
     "execution_count": 16,
     "metadata": {},
     "output_type": "execute_result"
    }
   ],
   "source": [
    "np.mean(trainer.y)"
   ]
  },
  {
   "cell_type": "code",
   "execution_count": 12,
   "metadata": {},
   "outputs": [
    {
     "data": {
      "text/plain": [
       "0.016908303"
      ]
     },
     "execution_count": 12,
     "metadata": {},
     "output_type": "execute_result"
    }
   ],
   "source": [
    "np.mean(trainer.y[...,1])"
   ]
  },
  {
   "cell_type": "code",
   "execution_count": 32,
   "metadata": {},
   "outputs": [],
   "source": [
    "import time, datetime, pandas as pd"
   ]
  },
  {
   "cell_type": "code",
   "execution_count": 30,
   "metadata": {},
   "outputs": [
    {
     "data": {
      "text/plain": [
       "{'loss': [1.4378013051716627,\n",
       "  0.9099266776996376,\n",
       "  0.6560740360116537,\n",
       "  0.4736835252394718,\n",
       "  0.37850110391072467],\n",
       " 'mean_absolute_error': [0.5480548,\n",
       "  0.36483356,\n",
       "  0.18457153,\n",
       "  0.14224647,\n",
       "  0.112289846],\n",
       " 'val_loss': [0.9638996720314026,\n",
       "  0.7312051951885223,\n",
       "  0.50823246439298,\n",
       "  0.36769733329614,\n",
       "  0.36757362137238186],\n",
       " 'val_mean_absolute_error': [0.51118344,\n",
       "  0.30274743,\n",
       "  0.25468788,\n",
       "  0.1352927,\n",
       "  0.15275852]}"
      ]
     },
     "execution_count": 30,
     "metadata": {},
     "output_type": "execute_result"
    }
   ],
   "source": [
    "trainer.history.history"
   ]
  },
  {
   "cell_type": "code",
   "execution_count": null,
   "metadata": {},
   "outputs": [
    {
     "name": "stdout",
     "output_type": "stream",
     "text": [
      "WARNING:tensorflow:From /home/bagel/.conda/envs/simon/lib/python3.7/site-packages/tensorflow/python/ops/resource_variable_ops.py:435: colocate_with (from tensorflow.python.framework.ops) is deprecated and will be removed in a future version.\n",
      "Instructions for updating:\n",
      "Colocations handled automatically by placer.\n",
      "WARNING:tensorflow:From /home/bagel/.conda/envs/simon/lib/python3.7/site-packages/tensorflow/python/keras/layers/core.py:143: calling dropout (from tensorflow.python.ops.nn_ops) with keep_prob is deprecated and will be removed in a future version.\n",
      "Instructions for updating:\n",
      "Please use `rate` instead of `keep_prob`. Rate should be set to `rate = 1 - keep_prob`.\n"
     ]
    }
   ],
   "source": [
    "keras.models.load_model(config.model_path)"
   ]
  },
  {
   "cell_type": "code",
   "execution_count": null,
   "metadata": {},
   "outputs": [],
   "source": []
  }
 ],
 "metadata": {
  "kernelspec": {
   "display_name": "Python [conda env:simon]",
   "language": "python",
   "name": "conda-env-simon-py"
  },
  "language_info": {
   "codemirror_mode": {
    "name": "ipython",
    "version": 3
   },
   "file_extension": ".py",
   "mimetype": "text/x-python",
   "name": "python",
   "nbconvert_exporter": "python",
   "pygments_lexer": "ipython3",
   "version": "3.7.3"
  }
 },
 "nbformat": 4,
 "nbformat_minor": 2
}
